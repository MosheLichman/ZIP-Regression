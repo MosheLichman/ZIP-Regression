{
 "cells": [
  {
   "cell_type": "markdown",
   "metadata": {},
   "source": [
    "# Creating Synth Data\n",
    "In this script we crate a synthetic data set. The data set is created for the purpose of uni-testing but it can also be used as an example to how to format your data set if you want to use this code.\n",
    "\n",
    "The basic structure of the data is a table with the following columns:\n",
    "\n",
    "1. user id\n",
    "2. item id\n",
    "3. Features (as many columns as you want)\n",
    "4. Target rate\n",
    "\n",
    "In this data set we are going to have 2 users 10 items and 6 time windows (5 for training and one for test). We will use a single feature which is the log(rate + 1) of consumption at the previous time window.\n",
    "\n",
    "The first user is going to consume the same 3 items (out of the 10) in every time window at a somewhat similar rate (~50). For the second user we'll choose randomely at each time window.\n",
    "\n",
    "This way we can validate few things in our model:\n",
    "\n",
    "1. For user 1 in the rate process the coefficient for user budget and the feature should be equally relatively high. This is because the exposure process that will cancel the rest and won't pull the user_budget down.\n",
    "2. In the exposure process for user the user_budget should be very low and the feature coefficient should be really high.\n",
    "3. For user 2 it the choice of items is kind of random so in the exposure proces we expect the user-budget coefficient to higher than the one for user 1 and lower for the feature coefficient.\n",
    "\n",
    "### This is not supposed to be a super effiicient code. It's just supposed to readable and help you produce the synthetic data."
   ]
  },
  {
   "cell_type": "code",
   "execution_count": 1,
   "metadata": {
    "collapsed": true
   },
   "outputs": [],
   "source": [
    "from __future__ import division\n",
    "import numpy as np"
   ]
  },
  {
   "cell_type": "code",
   "execution_count": 2,
   "metadata": {
    "collapsed": true
   },
   "outputs": [],
   "source": [
    "N, M, T = 2, 10, 5\n",
    "\n",
    "user_1_items = np.array([1, 3, 5], dtype=np.intc)"
   ]
  },
  {
   "cell_type": "markdown",
   "metadata": {},
   "source": [
    "The first time stmap is unique because I need have a fake previously consumed rate. The column of the data are:\n",
    "\n",
    "1. user id\n",
    "2. item id\n",
    "3. feature_1\n",
    "4. target rate"
   ]
  },
  {
   "cell_type": "code",
   "execution_count": 4,
   "metadata": {
    "collapsed": true
   },
   "outputs": [],
   "source": [
    "prev_t_1 = np.zeros([10, 4])\n",
    "prev_t_1[:, 1] = np.arange(10)\n",
    "prev_t_1[user_1_items, 2] = np.log(50 + np.random.randint(0, 5, 3) + 1)  # Previous \"fake\" rate\n",
    "prev_t_1[user_1_items, 3] = 50 + np.random.randint(0, 5, 3)"
   ]
  },
  {
   "cell_type": "code",
   "execution_count": 5,
   "metadata": {},
   "outputs": [],
   "source": [
    "prev_t_2 = np.zeros([10, 4])\n",
    "prev_t_2[:, 0] = 1\n",
    "prev_t_2[:, 1] = np.arange(10)\n",
    "\n",
    "# Choosing randomly 3 items\n",
    "user_2_items = np.random.choice(10, 3, replace=False)\n",
    "prev_t_2[user_2_items, 2] = np.log(50 + np.random.randint(0, 5, 3))  # Previous \"fake\" rate\n",
    "\n",
    "# Choosing randomly 3 items\n",
    "user_2_items = np.random.choice(10, 3)\n",
    "prev_t_2[user_2_items, 3] = 50 + np.random.randint(0, 5, 3)"
   ]
  },
  {
   "cell_type": "markdown",
   "metadata": {},
   "source": [
    "Creating the rest of the time windows data."
   ]
  },
  {
   "cell_type": "code",
   "execution_count": 6,
   "metadata": {
    "collapsed": true
   },
   "outputs": [],
   "source": [
    "def data_for_user(prev_t, next_items):\n",
    "    \"\"\"Creates a synth data for the next timestamp for user.\n",
    "    \n",
    "    Uses the pervious rates as the past rate and radomely assign rates for the next items.\n",
    "    \"\"\"\n",
    "    t_user = np.zeros([10, 4])\n",
    "    t_user[:, :2] = prev_t[:, :2]  # Nothing changed here\n",
    "    \n",
    "    t_user[:, 2] = np.log(prev_t[:, -1] + 1) # Previous real rate\n",
    "    \n",
    "    t_user[next_items, 3] = 50 + np.random.randint(0, 5, 3)\n",
    "    \n",
    "    return t_user"
   ]
  },
  {
   "cell_type": "code",
   "execution_count": 7,
   "metadata": {},
   "outputs": [],
   "source": [
    "train_data = np.vstack([prev_t_1, prev_t_2])"
   ]
  },
  {
   "cell_type": "code",
   "execution_count": 8,
   "metadata": {},
   "outputs": [],
   "source": [
    "for t in range(5):\n",
    "    ## Need to add 4 more \n",
    "    prev_t_1 = data_for_user(prev_t_1, user_1_items)\n",
    "    \n",
    "    user_2_items = np.random.choice(10, 3, replace=False)\n",
    "    prev_t_2 = data_for_user(prev_t_2, user_2_items)\n",
    "    \n",
    "    train_data = np.vstack([train_data, prev_t_1, prev_t_2])"
   ]
  },
  {
   "cell_type": "code",
   "execution_count": 10,
   "metadata": {},
   "outputs": [],
   "source": [
    "# Now the test data\n",
    "prev_t_1 = data_for_user(prev_t_1, user_1_items)\n",
    "user_2_items = np.random.choice(10, 3, replace=False)\n",
    "prev_t_2 = data_for_user(prev_t_2, user_2_items)"
   ]
  },
  {
   "cell_type": "code",
   "execution_count": 11,
   "metadata": {
    "collapsed": true
   },
   "outputs": [],
   "source": [
    "test_data = np.vstack([prev_t_1, prev_t_2])"
   ]
  },
  {
   "cell_type": "code",
   "execution_count": 14,
   "metadata": {},
   "outputs": [],
   "source": [
    "np.savetxt('./data/train', train_data, fmt='%.5f', delimiter='\\t')\n",
    "np.savetxt('./data/test', test_data, fmt='%.5f', delimiter='\\t')"
   ]
  }
 ],
 "metadata": {
  "kernelspec": {
   "display_name": "Python 2",
   "language": "python",
   "name": "python2"
  },
  "language_info": {
   "codemirror_mode": {
    "name": "ipython",
    "version": 2
   },
   "file_extension": ".py",
   "mimetype": "text/x-python",
   "name": "python",
   "nbconvert_exporter": "python",
   "pygments_lexer": "ipython2",
   "version": "2.7.14"
  }
 },
 "nbformat": 4,
 "nbformat_minor": 2
}
