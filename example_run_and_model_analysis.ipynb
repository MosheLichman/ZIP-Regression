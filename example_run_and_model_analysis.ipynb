{
 "cells": [
  {
   "cell_type": "markdown",
   "metadata": {},
   "source": [
    "## Example of evaluation\n",
    "This script shows an example of training and evaluating the model. We'll use the data created by the synth data cration notebook, so make sure you ran that one first.\n",
    "\n",
    "Our model also has the option of being saved to file and be loaded for evaluation, but we'll lave that for you to figure out :)"
   ]
  },
  {
   "cell_type": "code",
   "execution_count": 1,
   "metadata": {},
   "outputs": [],
   "source": [
    "from __future__ import division\n",
    "import numpy as np\n",
    "\n",
    "np.random.seed(0)\n",
    "\n",
    "from model.zip_reg import ZipRegression"
   ]
  },
  {
   "cell_type": "code",
   "execution_count": 2,
   "metadata": {
    "collapsed": true
   },
   "outputs": [],
   "source": [
    "train_data = np.genfromtxt('./data/train', delimiter='\\t')\n",
    "test_data = np.genfromtxt('./data/test', delimiter='\\t')"
   ]
  },
  {
   "cell_type": "code",
   "execution_count": 3,
   "metadata": {},
   "outputs": [
    {
     "name": "stderr",
     "output_type": "stream",
     "text": [
      "2017-11-28 13:15:47,726 INFO --> AsyncSampler.start_sampling: Starting a sampler for [120 50]\n",
      "2017-11-28 13:15:47,748 INFO --> ZipRegression.learn_eta: Data log like after 20 iterations [-inf --> -0.63311]\n",
      "2017-11-28 13:15:47,755 INFO --> ZipRegression.learn_eta: Data log like after 30 iterations [-0.63311 --> -0.61774]\n",
      "2017-11-28 13:15:47,759 INFO --> ZipRegression.learn_eta: Data log like after 40 iterations [-0.61774 --> -0.60529]\n",
      "2017-11-28 13:15:47,762 INFO --> ZipRegression.learn_eta: Data log like after 50 iterations [-0.60529 --> -0.59597]\n",
      "2017-11-28 13:15:47,767 INFO --> ZipRegression.learn_eta: Data log like after 60 iterations [-0.59597 --> -0.58876]\n",
      "2017-11-28 13:15:47,770 INFO --> ZipRegression.learn_eta: Data log like after 70 iterations [-0.58876 --> -0.58390]\n",
      "2017-11-28 13:15:47,775 INFO --> ZipRegression.learn_eta: Data log like after 80 iterations [-0.58390 --> -0.57949]\n",
      "2017-11-28 13:15:47,779 INFO --> ZipRegression.learn_eta: Data log like after 90 iterations [-0.57949 --> -0.57702]\n",
      "2017-11-28 13:15:47,783 INFO --> ZipRegression.learn_eta: Data log like after 100 iterations [-0.57702 --> -0.57538]\n",
      "2017-11-28 13:15:47,787 INFO --> ZipRegression.learn_eta: Data log like after 110 iterations [-0.57538 --> -0.57447]\n",
      "2017-11-28 13:15:47,788 INFO --> ZipRegression.learn_eta: Reached convergance after 110 iterations\n",
      "2017-11-28 13:15:47,789 INFO --> ZipRegression.learn_eta: Train data log like -0.574\n",
      "2017-11-28 13:15:47,798 INFO --> Pois_Reg data log like: [-inf --> -24.527]\n",
      "2017-11-28 13:15:47,803 INFO --> Pois_Reg data log like: [-24.527 --> -18.970]\n",
      "2017-11-28 13:15:47,807 INFO --> Pois_Reg data log like: [-18.970 --> -14.808]\n",
      "2017-11-28 13:15:47,811 INFO --> Pois_Reg data log like: [-14.808 --> -12.661]\n",
      "2017-11-28 13:15:47,815 INFO --> Pois_Reg data log like: [-12.661 --> -12.169]\n",
      "2017-11-28 13:15:47,820 INFO --> Pois_Reg data log like: [-12.169 --> -11.678]\n",
      "2017-11-28 13:15:47,824 INFO --> Pois_Reg data log like: [-11.678 --> -10.633]\n",
      "2017-11-28 13:15:47,829 INFO --> Pois_Reg data log like: [-10.633 --> -9.599]\n",
      "2017-11-28 13:15:47,830 ERROR --> Pois_Reg: Did not reach convergence after 100 iterations\n",
      "2017-11-28 13:15:47,831 INFO --> Pois_Reg: Train log like -9.599\n",
      "2017-11-28 13:15:47,838 INFO --> ZipRegression.learn_eta: Data log like after 20 iterations [-inf --> -0.42532]\n",
      "2017-11-28 13:15:47,842 INFO --> ZipRegression.learn_eta: Data log like after 30 iterations [-0.42532 --> -0.39218]\n",
      "2017-11-28 13:15:47,846 INFO --> ZipRegression.learn_eta: Data log like after 40 iterations [-0.39218 --> -0.37224]\n",
      "2017-11-28 13:15:47,850 INFO --> ZipRegression.learn_eta: Data log like after 50 iterations [-0.37224 --> -0.35818]\n",
      "2017-11-28 13:15:47,854 INFO --> ZipRegression.learn_eta: Data log like after 60 iterations [-0.35818 --> -0.34953]\n",
      "2017-11-28 13:15:47,858 INFO --> ZipRegression.learn_eta: Data log like after 70 iterations [-0.34953 --> -0.34197]\n",
      "2017-11-28 13:15:47,862 INFO --> ZipRegression.learn_eta: Data log like after 80 iterations [-0.34197 --> -0.33528]\n",
      "2017-11-28 13:15:47,865 INFO --> ZipRegression.learn_eta: Data log like after 90 iterations [-0.33528 --> -0.33117]\n",
      "2017-11-28 13:15:47,869 INFO --> ZipRegression.learn_eta: Data log like after 100 iterations [-0.33117 --> -0.32519]\n",
      "2017-11-28 13:15:47,873 INFO --> ZipRegression.learn_eta: Data log like after 110 iterations [-0.32519 --> -0.32135]\n",
      "2017-11-28 13:15:47,878 INFO --> ZipRegression.learn_eta: Data log like after 120 iterations [-0.32135 --> -0.31757]\n",
      "2017-11-28 13:15:47,881 INFO --> ZipRegression.learn_eta: Data log like after 130 iterations [-0.31757 --> -0.31425]\n",
      "2017-11-28 13:15:47,885 INFO --> ZipRegression.learn_eta: Data log like after 140 iterations [-0.31425 --> -0.31191]\n",
      "2017-11-28 13:15:47,889 INFO --> ZipRegression.learn_eta: Data log like after 150 iterations [-0.31191 --> -0.30933]\n",
      "2017-11-28 13:15:47,893 INFO --> ZipRegression.learn_eta: Data log like after 160 iterations [-0.30933 --> -0.30728]\n",
      "2017-11-28 13:15:47,897 INFO --> ZipRegression.learn_eta: Data log like after 170 iterations [-0.30728 --> -0.30589]\n",
      "2017-11-28 13:15:47,901 INFO --> ZipRegression.learn_eta: Data log like after 180 iterations [-0.30589 --> -0.30454]\n",
      "2017-11-28 13:15:47,905 INFO --> ZipRegression.learn_eta: Data log like after 190 iterations [-0.30454 --> -0.30331]\n",
      "2017-11-28 13:15:47,909 INFO --> ZipRegression.learn_eta: Data log like after 200 iterations [-0.30331 --> -0.30342]\n",
      "2017-11-28 13:15:47,911 INFO --> ZipRegression.learn_eta: Reached convergance after 200 iterations\n",
      "2017-11-28 13:15:47,912 INFO --> ZipRegression.learn_eta: Train data log like -0.303\n",
      "2017-11-28 13:15:47,920 INFO --> Pois_Reg data log like: [-inf --> -3.754]\n",
      "2017-11-28 13:15:47,926 INFO --> Pois_Reg data log like: [-3.754 --> -2.916]\n",
      "2017-11-28 13:15:47,930 INFO --> Pois_Reg data log like: [-2.916 --> -2.204]\n",
      "2017-11-28 13:15:47,934 INFO --> Pois_Reg data log like: [-2.204 --> -1.671]\n",
      "2017-11-28 13:15:47,939 INFO --> Pois_Reg data log like: [-1.671 --> -1.307]\n",
      "2017-11-28 13:15:47,943 INFO --> Pois_Reg data log like: [-1.307 --> -1.108]\n",
      "2017-11-28 13:15:47,948 INFO --> Pois_Reg data log like: [-1.108 --> -1.016]\n",
      "2017-11-28 13:15:47,952 INFO --> Pois_Reg data log like: [-1.016 --> -0.974]\n",
      "2017-11-28 13:15:47,953 ERROR --> Pois_Reg: Did not reach convergence after 100 iterations\n",
      "2017-11-28 13:15:47,954 INFO --> Pois_Reg: Train log like -0.974\n",
      "2017-11-28 13:15:47,961 INFO --> ZipRegression.learn_eta: Data log like after 20 iterations [-inf --> -0.29502]\n",
      "2017-11-28 13:15:47,965 INFO --> ZipRegression.learn_eta: Data log like after 30 iterations [-0.29502 --> -0.29326]\n",
      "2017-11-28 13:15:47,969 INFO --> ZipRegression.learn_eta: Data log like after 40 iterations [-0.29326 --> -0.29153]\n",
      "2017-11-28 13:15:47,972 INFO --> ZipRegression.learn_eta: Data log like after 50 iterations [-0.29153 --> -0.29089]\n",
      "2017-11-28 13:15:47,974 INFO --> ZipRegression.learn_eta: Reached convergance after 50 iterations\n",
      "2017-11-28 13:15:47,975 INFO --> ZipRegression.learn_eta: Train data log like -0.291\n",
      "2017-11-28 13:15:47,984 INFO --> Pois_Reg data log like: [-inf --> -0.854]\n",
      "2017-11-28 13:15:47,988 INFO --> Pois_Reg data log like: [-0.854 --> -0.851]\n",
      "2017-11-28 13:15:47,990 INFO --> Pois_Reg: Reached convergance after 40 iterations\n",
      "2017-11-28 13:15:47,991 INFO --> Pois_Reg: Train log like -0.851\n",
      "2017-11-28 13:15:47,997 INFO --> ZipRegression.learn_eta: Data log like after 20 iterations [-inf --> -0.28945]\n",
      "2017-11-28 13:15:48,001 INFO --> ZipRegression.learn_eta: Data log like after 30 iterations [-0.28945 --> -0.28862]\n",
      "2017-11-28 13:15:48,002 INFO --> ZipRegression.learn_eta: Reached convergance after 30 iterations\n",
      "2017-11-28 13:15:48,003 INFO --> ZipRegression.learn_eta: Train data log like -0.289\n",
      "2017-11-28 13:15:48,013 INFO --> Pois_Reg data log like: [-inf --> -0.850]\n",
      "2017-11-28 13:15:48,017 INFO --> Pois_Reg data log like: [-0.850 --> -0.852]\n",
      "2017-11-28 13:15:48,018 INFO --> Pois_Reg: Reached convergance after 40 iterations\n",
      "2017-11-28 13:15:48,019 INFO --> Pois_Reg: Train log like -0.852\n",
      "2017-11-28 13:15:48,025 INFO --> ZipRegression.learn_eta: Data log like after 20 iterations [-inf --> -0.28752]\n",
      "2017-11-28 13:15:48,029 INFO --> ZipRegression.learn_eta: Data log like after 30 iterations [-0.28752 --> -0.28726]\n",
      "2017-11-28 13:15:48,031 INFO --> ZipRegression.learn_eta: Reached convergance after 30 iterations\n",
      "2017-11-28 13:15:48,032 INFO --> ZipRegression.learn_eta: Train data log like -0.287\n",
      "2017-11-28 13:15:48,040 INFO --> Pois_Reg data log like: [-inf --> -0.853]\n",
      "2017-11-28 13:15:48,045 INFO --> Pois_Reg data log like: [-0.853 --> -0.852]\n",
      "2017-11-28 13:15:48,046 INFO --> Pois_Reg: Reached convergance after 40 iterations\n",
      "2017-11-28 13:15:48,047 INFO --> Pois_Reg: Train log like -0.852\n",
      "2017-11-28 13:15:48,048 INFO --> ZipRegression._em: Data LL at iteration 3 [-inf --> -1.13877]\n",
      "2017-11-28 13:15:48,053 INFO --> ZipRegression.learn_eta: Data log like after 20 iterations [-inf --> -0.28652]\n",
      "2017-11-28 13:15:48,058 INFO --> ZipRegression.learn_eta: Data log like after 30 iterations [-0.28652 --> -0.28623]\n",
      "2017-11-28 13:15:48,060 INFO --> ZipRegression.learn_eta: Reached convergance after 30 iterations\n",
      "2017-11-28 13:15:48,061 INFO --> ZipRegression.learn_eta: Train data log like -0.286\n"
     ]
    },
    {
     "name": "stderr",
     "output_type": "stream",
     "text": [
      "2017-11-28 13:15:48,069 INFO --> Pois_Reg data log like: [-inf --> -0.851]\n",
      "2017-11-28 13:15:48,074 INFO --> Pois_Reg data log like: [-0.851 --> -0.850]\n",
      "2017-11-28 13:15:48,075 INFO --> Pois_Reg: Reached convergance after 40 iterations\n",
      "2017-11-28 13:15:48,077 INFO --> Pois_Reg: Train log like -0.850\n",
      "2017-11-28 13:15:48,078 INFO --> ZipRegression._em: Data LL at iteration 4 [-1.13877 --> -1.13657]\n",
      "2017-11-28 13:15:48,079 INFO --> ZipRegression._em: Reached conversion\n",
      "2017-11-28 13:15:48,080 INFO --> ZipRegression._em: Train data log like -1.13657\n"
     ]
    }
   ],
   "source": [
    "N, M = 2, 10\n",
    "model = ZipRegression(N, M, eta_gd_lamb=0, eta_gd_tol=0.001,\n",
    "                      eta_gd_batch_size=50, beta_gd_batch_size=50, min_gd_iter=20)\n",
    "\n",
    "model.learn_model(train_data[:, 0].astype(np.intc), train_data[:, 1].astype(np.intc), \n",
    "                 train_data[:, 2:3], train_data[:, 3].astype(np.intc))"
   ]
  },
  {
   "cell_type": "markdown",
   "metadata": {},
   "source": [
    "## Uni tests\n",
    "Not really with assert or anything like that. Just looking at the values and making sure they are as expected (see the data creation script for details)."
   ]
  },
  {
   "cell_type": "code",
   "execution_count": 4,
   "metadata": {},
   "outputs": [
    {
     "name": "stdout",
     "output_type": "stream",
     "text": [
      "[[-3.88355507  4.53822358]\n",
      " [ 0.23787397 -0.3559108 ]]\n"
     ]
    }
   ],
   "source": [
    "print model.eta_u"
   ]
  },
  {
   "cell_type": "code",
   "execution_count": 5,
   "metadata": {},
   "outputs": [
    {
     "name": "stdout",
     "output_type": "stream",
     "text": [
      "-0.933253503503\n"
     ]
    }
   ],
   "source": [
    "print model.eta_0"
   ]
  },
  {
   "cell_type": "code",
   "execution_count": 6,
   "metadata": {},
   "outputs": [
    {
     "name": "stdout",
     "output_type": "stream",
     "text": [
      "1.35510239893\n"
     ]
    }
   ],
   "source": [
    "print model.pos_model.beta_0"
   ]
  },
  {
   "cell_type": "code",
   "execution_count": 7,
   "metadata": {},
   "outputs": [
    {
     "name": "stdout",
     "output_type": "stream",
     "text": [
      "[ 0.94364965  0.99212713  1.01836316  1.01265816  0.97117593  1.01284206\n",
      "  0.98806505  1.03140638  1.00199726  0.95484452]\n"
     ]
    }
   ],
   "source": [
    "print model.pos_model.beta_i"
   ]
  },
  {
   "cell_type": "code",
   "execution_count": 8,
   "metadata": {},
   "outputs": [
    {
     "data": {
      "text/plain": [
       "array([[ 0.14699527,  0.36267839],\n",
       "       [ 1.60702774, -0.00648908]])"
      ]
     },
     "execution_count": 8,
     "metadata": {},
     "output_type": "execute_result"
    }
   ],
   "source": [
    "model.pos_model.beta_u"
   ]
  },
  {
   "cell_type": "markdown",
   "metadata": {},
   "source": [
    "## Empirical tests on the test data\n",
    "In the training process we trained the coefficients. Now we're going to use the test data features and evalatue the rate prediction."
   ]
  },
  {
   "cell_type": "code",
   "execution_count": 9,
   "metadata": {
    "scrolled": true
   },
   "outputs": [
    {
     "name": "stderr",
     "output_type": "stream",
     "text": [
      "2017-11-28 13:15:48,164 INFO --> Trained on 2 out of 2 test users\n",
      "2017-11-28 13:15:48,168 INFO --> Trained on 2 out of 2 test users\n",
      "2017-11-28 13:15:48,173 INFO --> Trained on 2 out of 2 test users\n",
      "2017-11-28 13:15:48,177 INFO --> Trained on 2 out of 2 test users\n"
     ]
    },
    {
     "name": "stdout",
     "output_type": "stream",
     "text": [
      "Log-Like is: -1.28002855433\n",
      "MAE is: 12.0001781591\n",
      "MSE is: 365.141980827\n",
      "F1 is: 0.602276818409\n"
     ]
    }
   ],
   "source": [
    "te_users, te_items, te_data_feat, te_target = \\\n",
    "    test_data[:, 0].astype(np.intc), test_data[:, 1].astype(np.intc), test_data[:, 2:3], test_data[:, 3].astype(np.intc)\n",
    "print 'Log-Like is:', model.test_log_prob(te_users, te_items, te_data_feat, te_target)\n",
    "print 'MAE is:', model.test_mae(te_users, te_items, te_data_feat, te_target)\n",
    "print 'MSE is:', model.test_mse(te_users, te_items, te_data_feat, te_target)\n",
    "print 'F1 is:', model.test_f1(te_users, te_items, te_data_feat, te_target)"
   ]
  }
 ],
 "metadata": {
  "kernelspec": {
   "display_name": "Python 2",
   "language": "python",
   "name": "python2"
  },
  "language_info": {
   "codemirror_mode": {
    "name": "ipython",
    "version": 2
   },
   "file_extension": ".py",
   "mimetype": "text/x-python",
   "name": "python",
   "nbconvert_exporter": "python",
   "pygments_lexer": "ipython2",
   "version": "2.7.14"
  }
 },
 "nbformat": 4,
 "nbformat_minor": 2
}
